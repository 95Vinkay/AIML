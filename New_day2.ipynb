{
 "cells": [
  {
   "cell_type": "code",
   "execution_count": 1,
   "metadata": {},
   "outputs": [],
   "source": [
    "import nltk"
   ]
  },
  {
   "cell_type": "code",
   "execution_count": 2,
   "metadata": {},
   "outputs": [],
   "source": [
    "from nltk.chat.util  import Chat, reflections"
   ]
  },
  {
   "cell_type": "code",
   "execution_count": 9,
   "metadata": {},
   "outputs": [],
   "source": [
    "# raw string - consider as indivisual character\n",
    "\n",
    "que1 = r'how are you'\n",
    "ans1 = [\n",
    "    'all well',\n",
    "    'I am good',\n",
    "    'Awesome'\n",
    "]\n",
    "\n",
    "que2 = r'what can you do'\n",
    "ans2 = [\n",
    "    'I can reply to your queries',\n",
    "    'I am here to answer to your question',\n",
    "    'I can chat with you'\n",
    "]\n",
    "\n",
    "que3 = r'what is your name'\n",
    "ans3 = [\n",
    "    'My name is Chatty',\n",
    "    'I am Chatty'\n",
    "\n",
    "]\n",
    "\n",
    "que4 = r'(.*)mausam(.*)ba[a]*rish'  # aaj mausam kaisa hai, kya baarish hogi?\n",
    "ans4 = [\n",
    "        'it looks it will rain today',\n",
    "        'baarish ka mausam hai',\n",
    "        'baarish ho sakti hai mausam kharab hai'\n",
    "]\n",
    "\n",
    "\n",
    "# Question Answers Pairs\n",
    "\n",
    "qa_pair = [\n",
    "    (que1, ans1),\n",
    "    (que2, ans2),\n",
    "    (que3, ans3),\n",
    "    (que4, ans4),\n",
    "]\n"
   ]
  },
  {
   "cell_type": "code",
   "execution_count": 10,
   "metadata": {},
   "outputs": [],
   "source": [
    "chatbot = Chat(qa_pair)"
   ]
  },
  {
   "cell_type": "code",
   "execution_count": 11,
   "metadata": {},
   "outputs": [
    {
     "name": "stdout",
     "output_type": "stream",
     "text": [
      "Q: aaj k mausam m barish hogi ky\n",
      "A: it looks it will rain today\n"
     ]
    }
   ],
   "source": [
    "question = input('Enter your question')\n",
    "print('Q:',question)\n",
    "reply = chatbot.respond(question)\n",
    "print('A:',reply)"
   ]
  },
  {
   "cell_type": "code",
   "execution_count": 12,
   "metadata": {},
   "outputs": [
    {
     "data": {
      "text/plain": [
       "'aaj k mausam m barish hogi ky'"
      ]
     },
     "execution_count": 12,
     "metadata": {},
     "output_type": "execute_result"
    }
   ],
   "source": [
    "question"
   ]
  },
  {
   "cell_type": "markdown",
   "metadata": {},
   "source": [
    "### Reguler expresion\n"
   ]
  },
  {
   "cell_type": "code",
   "execution_count": 14,
   "metadata": {},
   "outputs": [
    {
     "data": {
      "text/plain": [
       "'\\\\W      not word characters'"
      ]
     },
     "execution_count": 14,
     "metadata": {},
     "output_type": "execute_result"
    }
   ],
   "source": [
    "\"---------------------------\",\n",
    "\"()      Group\",\n",
    "\".       Any character (except new line)\",\n",
    "\"*       zero or more occurrences\",\n",
    "\"[]      set of characters\",\n",
    "\"a-z     all small alphabet\",\n",
    "\"A-Z     All caps alphabet\",\n",
    "\"0-9     all numbers\",\n",
    "\"^       starting with\",\n",
    "\"$       ends with\",\n",
    "\"?       zero or one occurrence only\",\n",
    "\"+       one or more occurrence\",\n",
    "\"{}      exact number of occurrence\",\n",
    "\"\\w      only word characters (alphabet, numbers and underscore)\",\n",
    "\"\\W      not word characters\""
   ]
  },
  {
   "cell_type": "code",
   "execution_count": 17,
   "metadata": {},
   "outputs": [
    {
     "name": "stdout",
     "output_type": "stream",
     "text": [
      "Speak:\n",
      "Question: Aaj Ke Mausam anusar Barish Hogi kya\n",
      "\n",
      "Answer: baarish ho sakti hai mausam kharab hai\n"
     ]
    }
   ],
   "source": [
    "import speech_recognition as sr \n",
    "import pyttsx3\n",
    "from nltk.chat.util  import Chat\n",
    "\n",
    "\n",
    "que1 = r'how are you'\n",
    "ans1 = [\n",
    "    'all well',\n",
    "    'I am good',\n",
    "    'Awesome'\n",
    "]\n",
    "\n",
    "que2 = r'what can you do'\n",
    "ans2 = [\n",
    "    'I can reply to your queries',\n",
    "    'I am here to answer to your question',\n",
    "    'I can chat with you'\n",
    "]\n",
    "\n",
    "que3 = r'what is your name'\n",
    "ans3 = [\n",
    "    'My name is Chatty',\n",
    "    'I am Chatty'\n",
    "\n",
    "]\n",
    "\n",
    "que4 = r'(.*)mausam(.*)ba[a]*rish'  # aaj mausam kaisa hai, kya baarish hogi?\n",
    "ans4 = [\n",
    "        'it looks it will rain today',\n",
    "        'baarish ka mausam hai',\n",
    "        'baarish ho sakti hai mausam kharab hai'\n",
    "]\n",
    "\n",
    "\n",
    "# Question Answers Pairs\n",
    "\n",
    "qa_pair = [\n",
    "    (que1, ans1),\n",
    "    (que2, ans2),\n",
    "    (que3, ans3),\n",
    "    (que4, ans4),\n",
    "]\n",
    "\n",
    "chatbot = Chat(qa_pair)\n",
    "\n",
    "\n",
    "\n",
    "spk = pyttsx3.init()\n",
    "spk.setProperty('rate',130)    #words per minute\n",
    "spk.setProperty('volume',1.0)  #100% volume\n",
    "\n",
    "rec = sr.Recognizer()\n",
    "\n",
    "with sr.Microphone() as mic:\n",
    "    print('Speak:')\n",
    "    spk.say('Speak Now')\n",
    "    spk.runAndWait()\n",
    "    audio = rec.listen(mic, timeout=1, phrase_time_limit=4)\n",
    "\n",
    "    try:\n",
    "        text = rec.recognize_google(audio)\n",
    "        print('Question:' , text, end='\\n\\n')\n",
    "\n",
    "        reply = chatbot.respond(text)\n",
    "        print('Answer:',reply)\n",
    "\n",
    "\n",
    "        spk.say(reply)\n",
    "        spk.runAndWait()\n",
    "    except  Exception as err:\n",
    "        print('Error:',err,end='\\n\\n')   "
   ]
  },
  {
   "cell_type": "code",
   "execution_count": null,
   "metadata": {},
   "outputs": [],
   "source": []
  }
 ],
 "metadata": {
  "kernelspec": {
   "display_name": "Python 3",
   "language": "python",
   "name": "python3"
  },
  "language_info": {
   "codemirror_mode": {
    "name": "ipython",
    "version": 3
   },
   "file_extension": ".py",
   "mimetype": "text/x-python",
   "name": "python",
   "nbconvert_exporter": "python",
   "pygments_lexer": "ipython3",
   "version": "3.10.11"
  },
  "orig_nbformat": 4
 },
 "nbformat": 4,
 "nbformat_minor": 2
}
